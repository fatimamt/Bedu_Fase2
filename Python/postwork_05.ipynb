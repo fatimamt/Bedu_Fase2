{
 "cells": [
  {
   "cell_type": "markdown",
   "metadata": {
    "id": "N_9hSrDqvkLX"
   },
   "source": [
    "# Limpieza de datos"
   ]
  },
  {
   "cell_type": "markdown",
   "metadata": {
    "id": "cdcMj4le9ep2"
   },
   "source": [
    "Continuaremos usando el dataset https://github.com/owid/covid-19-data/tree/master/public/data"
   ]
  },
  {
   "cell_type": "code",
   "execution_count": null,
   "metadata": {
    "id": "g_DKO2VfvpA7"
   },
   "outputs": [],
   "source": [
    "#Importacion de modulos\n",
    "import pandas as pd\n",
    "df_json = pd.read_json(\"https://covid.ourworldindata.org/data/owid-covid-data.json\")"
   ]
  },
  {
   "cell_type": "markdown",
   "metadata": {},
   "source": [
    "Empezaremos haciendo el cast de la entrada \"data\" (que como habíamos visto era una lista) a dataframe para poder realizar la limpieza correspondiente"
   ]
  },
  {
   "cell_type": "code",
   "execution_count": null,
   "metadata": {},
   "outputs": [],
   "source": [
    "for key in df_json.keys():\n",
    "    df_json[key][\"data\"] = pd.DataFrame.from_records(df_json[key][\"data\"])\n",
    "df_json"
   ]
  },
  {
   "cell_type": "markdown",
   "metadata": {
    "id": "nRKJSSFu-01r"
   },
   "source": [
    "Ya habíamos revisado que tenemos datos a los hay que aplicar limpieza"
   ]
  },
  {
   "cell_type": "code",
   "execution_count": null,
   "metadata": {
    "colab": {
     "base_uri": "https://localhost:8080/",
     "height": 768
    },
    "id": "FgGa0wI2y9n3",
    "outputId": "f8dd7678-3568-4483-e4e9-e0844a7d01b2"
   },
   "outputs": [],
   "source": [
    "df_json[\"MEX\"][\"data\"].isna().sum()"
   ]
  },
  {
   "cell_type": "markdown",
   "metadata": {},
   "source": [
    "Primero dejaremos las columnas que realmente nos interesan.Al parecer no todas las entradas contienen el dato \"total_vaccinations\", utilizaremos este error para eliminar todas las entradas que no contengan esta información ya que no son utiles para nuestro estudio"
   ]
  },
  {
   "cell_type": "code",
   "execution_count": null,
   "metadata": {},
   "outputs": [],
   "source": [
    "for key in df_json.keys():\n",
    "    try:\n",
    "        df_json[key][\"data\"] = df_json[key][\"data\"][[\"date\", \"total_vaccinations\", \"new_cases\"]]\n",
    "    except KeyError:\n",
    "        df_json = df_json.drop([key], axis=1)\n",
    "df_json"
   ]
  },
  {
   "cell_type": "markdown",
   "metadata": {
    "id": "_W50J8v-_Dwv"
   },
   "source": [
    "Ahora si, eliminaremos las NaN de las columnas de interes. Para nuestro caso en particular, los datos faltantes no afectan para nuestro analisis así que simplemente los eliminaremos"
   ]
  },
  {
   "cell_type": "code",
   "execution_count": null,
   "metadata": {
    "id": "rV9DUAUEzHSr"
   },
   "outputs": [],
   "source": [
    "for key in df_json.keys():\n",
    "    df_json[key][\"data\"] = df_json[key][\"data\"].dropna()"
   ]
  },
  {
   "cell_type": "markdown",
   "metadata": {},
   "source": [
    "Con esto ya tendríamos únicamente las información que necesitamos"
   ]
  }
 ],
 "metadata": {
  "colab": {
   "collapsed_sections": [],
   "name": "Untitled2.ipynb",
   "provenance": [],
   "toc_visible": true
  },
  "kernelspec": {
   "display_name": "Python 3",
   "language": "python",
   "name": "python3"
  },
  "language_info": {
   "codemirror_mode": {
    "name": "ipython",
    "version": 3
   },
   "file_extension": ".py",
   "mimetype": "text/x-python",
   "name": "python",
   "nbconvert_exporter": "python",
   "pygments_lexer": "ipython3",
   "version": "3.8.2"
  }
 },
 "nbformat": 4,
 "nbformat_minor": 1
}
