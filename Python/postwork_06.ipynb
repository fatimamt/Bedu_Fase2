{
 "cells": [
  {
   "cell_type": "markdown",
   "metadata": {
    "id": "N_9hSrDqvkLX"
   },
   "source": [
    "# APIs"
   ]
  },
  {
   "cell_type": "markdown",
   "metadata": {
    "id": "cdcMj4le9ep2"
   },
   "source": [
    "Queremos saber que tatanto afectaron las fiestas decembrinas en el número de casos nuevos en el mes de Enero para México. Para esto utilizaremos la API https://covid19tracking.narrativa.com/es/mexico/api.html"
   ]
  },
  {
   "cell_type": "code",
   "execution_count": null,
   "metadata": {
    "id": "g_DKO2VfvpA7"
   },
   "outputs": [],
   "source": [
    "#Importacion de modulos\n",
    "import pandas as pd\n",
    "import requests"
   ]
  },
  {
   "cell_type": "markdown",
   "metadata": {},
   "source": [
    "Por la documentación de la API, sabemos como pedir los datos por día"
   ]
  },
  {
   "cell_type": "code",
   "execution_count": null,
   "metadata": {},
   "outputs": [],
   "source": [
    "data_days = []\n",
    "for day in range(1, 32):\n",
    "    day = \"0\" + str(day) if day < 10 else str(day)\n",
    "    r = requests.get(f\"https://api.covid19tracking.narrativa.com/api/2021-01-{day}/country/mexico\")\n",
    "    data_days.append(r.json())"
   ]
  },
  {
   "cell_type": "markdown",
   "metadata": {
    "id": "nRKJSSFu-01r"
   },
   "source": [
    "Revisamos la estructura que nos devolvió la consulta"
   ]
  },
  {
   "cell_type": "code",
   "execution_count": null,
   "metadata": {
    "colab": {
     "base_uri": "https://localhost:8080/",
     "height": 768
    },
    "id": "FgGa0wI2y9n3",
    "outputId": "f8dd7678-3568-4483-e4e9-e0844a7d01b2"
   },
   "outputs": [],
   "source": [
    "data_days[0]"
   ]
  },
  {
   "cell_type": "markdown",
   "metadata": {},
   "source": [
    "Trataremos de mejorar la presentación para que sea más entendible"
   ]
  },
  {
   "cell_type": "code",
   "execution_count": null,
   "metadata": {},
   "outputs": [],
   "source": [
    "import json\n",
    "print(json.dumps(data_days[0], sort_keys=True, indent=3))"
   ]
  },
  {
   "cell_type": "markdown",
   "metadata": {},
   "source": [
    "La entrada que nos interesa es \"total\". Lo convertiremos cada petición a un dataframe con solo las columnas que nos interesan para después unir los dataframe en uno solo"
   ]
  },
  {
   "cell_type": "code",
   "execution_count": null,
   "metadata": {},
   "outputs": [],
   "source": [
    "df_days = []\n",
    "for data in data_days:\n",
    "    df = pd.DataFrame.from_dict([data[\"total\"]])\n",
    "    df = df.set_index(\"date\", drop = True)\n",
    "    df_days.append(df[[\"today_new_confirmed\", \"today_new_deaths\", \"today_new_recovered\"]])"
   ]
  },
  {
   "cell_type": "markdown",
   "metadata": {
    "id": "_W50J8v-_Dwv"
   },
   "source": [
    "Ahora combinaremos cada una de las series para fromar el datafram"
   ]
  },
  {
   "cell_type": "code",
   "execution_count": null,
   "metadata": {
    "id": "rV9DUAUEzHSr",
    "scrolled": false
   },
   "outputs": [],
   "source": [
    "df_january = pd.concat(series_days)"
   ]
  },
  {
   "cell_type": "markdown",
   "metadata": {},
   "source": [
    "Listo, ya tenemos nuestro datafram completo"
   ]
  }
 ],
 "metadata": {
  "colab": {
   "collapsed_sections": [],
   "name": "Untitled2.ipynb",
   "provenance": [],
   "toc_visible": true
  },
  "kernelspec": {
   "display_name": "Python 3",
   "language": "python",
   "name": "python3"
  },
  "language_info": {
   "codemirror_mode": {
    "name": "ipython",
    "version": 3
   },
   "file_extension": ".py",
   "mimetype": "text/x-python",
   "name": "python",
   "nbconvert_exporter": "python",
   "pygments_lexer": "ipython3",
   "version": "3.8.2"
  }
 },
 "nbformat": 4,
 "nbformat_minor": 1
}
