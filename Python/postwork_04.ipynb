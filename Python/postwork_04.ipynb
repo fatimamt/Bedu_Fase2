{
 "cells": [
  {
   "cell_type": "markdown",
   "metadata": {
    "id": "N_9hSrDqvkLX"
   },
   "source": [
    "# Obtención de datos"
   ]
  },
  {
   "cell_type": "markdown",
   "metadata": {
    "id": "cdcMj4le9ep2"
   },
   "source": [
    "Para el analisis de nuestro problema, vamos a utilizar un dataset alojado en https://github.com/owid/covid-19-data/tree/master/public/data y que es mantenido por https://ourworldindata.org/coronavirus"
   ]
  },
  {
   "cell_type": "code",
   "execution_count": null,
   "metadata": {
    "id": "g_DKO2VfvpA7"
   },
   "outputs": [],
   "source": [
    "#Importacion de modulos\n",
    "import pandas as pd\n",
    "df_json = pd.read_json(\"https://covid.ourworldindata.org/data/owid-covid-data.json\")"
   ]
  },
  {
   "cell_type": "markdown",
   "metadata": {
    "id": "nRKJSSFu-01r"
   },
   "source": [
    "Realizaremos un bosquejo para saber que tanta infromación tenemos"
   ]
  },
  {
   "cell_type": "code",
   "execution_count": null,
   "metadata": {
    "colab": {
     "base_uri": "https://localhost:8080/",
     "height": 768
    },
    "id": "FgGa0wI2y9n3",
    "outputId": "f8dd7678-3568-4483-e4e9-e0844a7d01b2"
   },
   "outputs": [],
   "source": [
    "df_json"
   ]
  },
  {
   "cell_type": "markdown",
   "metadata": {
    "id": "_W50J8v-_Dwv"
   },
   "source": [
    "La información se encuentra dividida por paises teniendo un total de 18 renglones y 215 columnas. La infromacíon de cada país parece estar en el renglón \"data\", veremos más a fondo que información nos ofrece   "
   ]
  },
  {
   "cell_type": "code",
   "execution_count": null,
   "metadata": {
    "id": "rV9DUAUEzHSr"
   },
   "outputs": [],
   "source": [
    "df_json['MEX'][\"data\"]"
   ]
  },
  {
   "cell_type": "markdown",
   "metadata": {
    "id": "4RYq4r4BAjfV"
   },
   "source": [
    "Al parecer tenemos una lista de JSON, convertiremos a un dataframe para poder visualizar mejor la información"
   ]
  },
  {
   "cell_type": "code",
   "execution_count": null,
   "metadata": {
    "id": "YWOf0QVtAiFj"
   },
   "outputs": [],
   "source": [
    "pd.DataFrame.from_records(df_json['MEX'][\"data\"])"
   ]
  },
  {
   "cell_type": "markdown",
   "metadata": {
    "id": "6RD6KW9NAYW0"
   },
   "source": [
    "Y que tipos de datos tenemos"
   ]
  },
  {
   "cell_type": "code",
   "execution_count": null,
   "metadata": {},
   "outputs": [],
   "source": [
    "pd.DataFrame.from_records(df_json['MEX'][\"data\"]).dtypes"
   ]
  },
  {
   "cell_type": "markdown",
   "metadata": {},
   "source": [
    "Las columnas que nos interezan son: new_cases y total_vaccinations, al parecer ambas tiene el tipo de dato correcto. Veremos si nuestros datos estan limpios"
   ]
  },
  {
   "cell_type": "code",
   "execution_count": null,
   "metadata": {},
   "outputs": [],
   "source": [
    "pd.DataFrame.from_records(df_json['MEX'][\"data\"]).isna().count()"
   ]
  },
  {
   "cell_type": "markdown",
   "metadata": {},
   "source": [
    "Si tenemos algunas NaN, habrá que hacer alguna limpieza"
   ]
  }
 ],
 "metadata": {
  "colab": {
   "collapsed_sections": [],
   "name": "Untitled2.ipynb",
   "provenance": [],
   "toc_visible": true
  },
  "kernelspec": {
   "display_name": "Python 3",
   "language": "python",
   "name": "python3"
  },
  "language_info": {
   "codemirror_mode": {
    "name": "ipython",
    "version": 3
   },
   "file_extension": ".py",
   "mimetype": "text/x-python",
   "name": "python",
   "nbconvert_exporter": "python",
   "pygments_lexer": "ipython3",
   "version": "3.8.2"
  }
 },
 "nbformat": 4,
 "nbformat_minor": 1
}
