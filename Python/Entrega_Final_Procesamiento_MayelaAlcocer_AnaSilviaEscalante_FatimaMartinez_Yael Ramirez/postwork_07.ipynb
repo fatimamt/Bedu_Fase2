{
 "cells": [
  {
   "cell_type": "markdown",
   "metadata": {
    "id": "N_9hSrDqvkLX"
   },
   "source": [
    "# Transformaciones"
   ]
  },
  {
   "cell_type": "markdown",
   "metadata": {
    "id": "cdcMj4le9ep2"
   },
   "source": [
    "Utilizaremos nuestro dataframe que ya habíamos limpiado con anterioridad."
   ]
  },
  {
   "cell_type": "code",
   "execution_count": 1,
   "metadata": {
    "id": "g_DKO2VfvpA7"
   },
   "outputs": [],
   "source": [
    "#Importacion de modulos\n",
    "import pandas as pd\n",
    "#Generacion del dataframe\n",
    "df_json = pd.read_json(\"https://covid.ourworldindata.org/data/owid-covid-data.json\")\n",
    "for key in df_json.keys():\n",
    "    df_json[key][\"data\"] = pd.DataFrame.from_records(df_json[key][\"data\"])\n",
    "for key in df_json.keys():\n",
    "    try:\n",
    "        df_json[key][\"data\"] = df_json[key][\"data\"][[\"date\", \"total_vaccinations\", \"new_cases\"]]\n",
    "    except KeyError:\n",
    "        df_json = df_json.drop([key], axis=1)\n",
    "for key in df_json.keys():\n",
    "    df_json[key][\"data\"] = df_json[key][\"data\"].dropna()"
   ]
  },
  {
   "cell_type": "markdown",
   "metadata": {},
   "source": [
    "Comprobaremos si tenemos los tipos de datos correctos."
   ]
  },
  {
   "cell_type": "code",
   "execution_count": 2,
   "metadata": {},
   "outputs": [
    {
     "data": {
      "text/plain": [
       "date                   object\n",
       "total_vaccinations    float64\n",
       "new_cases             float64\n",
       "dtype: object"
      ]
     },
     "execution_count": 2,
     "metadata": {},
     "output_type": "execute_result"
    }
   ],
   "source": [
    "df_json[\"MEX\"][\"data\"].dtypes"
   ]
  },
  {
   "cell_type": "markdown",
   "metadata": {
    "id": "nRKJSSFu-01r"
   },
   "source": [
    "Como podemos observar; \"date\" representa una fecha, pero su tipo es object. Vamos a realizar el casteo."
   ]
  },
  {
   "cell_type": "code",
   "execution_count": 3,
   "metadata": {
    "colab": {
     "base_uri": "https://localhost:8080/",
     "height": 768
    },
    "id": "FgGa0wI2y9n3",
    "outputId": "f8dd7678-3568-4483-e4e9-e0844a7d01b2"
   },
   "outputs": [
    {
     "data": {
      "text/plain": [
       "date                  datetime64[ns]\n",
       "total_vaccinations           float64\n",
       "new_cases                    float64\n",
       "dtype: object"
      ]
     },
     "execution_count": 3,
     "metadata": {},
     "output_type": "execute_result"
    }
   ],
   "source": [
    "df_json[\"MEX\"][\"data\"][\"date\"] = pd.to_datetime(df_json[\"MEX\"][\"data\"][\"date\"], format='%Y-%m-%d')\n",
    "df_json[\"MEX\"][\"data\"].dtypes"
   ]
  },
  {
   "cell_type": "markdown",
   "metadata": {},
   "source": [
    "Listo, ya tenemos los valores correspondientes."
   ]
  }
 ],
 "metadata": {
  "colab": {
   "collapsed_sections": [],
   "name": "Untitled2.ipynb",
   "provenance": [],
   "toc_visible": true
  },
  "kernelspec": {
   "display_name": "Python 3",
   "language": "python",
   "name": "python3"
  },
  "language_info": {
   "codemirror_mode": {
    "name": "ipython",
    "version": 3
   },
   "file_extension": ".py",
   "mimetype": "text/x-python",
   "name": "python",
   "nbconvert_exporter": "python",
   "pygments_lexer": "ipython3",
   "version": "3.8.5"
  }
 },
 "nbformat": 4,
 "nbformat_minor": 1
}
